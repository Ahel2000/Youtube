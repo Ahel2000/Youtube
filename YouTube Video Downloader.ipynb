{
 "cells": [
  {
   "cell_type": "code",
   "execution_count": 19,
   "metadata": {},
   "outputs": [],
   "source": [
    "#importing the module \n",
    "from pytube import YouTube \n",
    "\n",
    "#where to save \n",
    "SAVE_PATH = \"Downloads:/\" #to_do \n",
    "\n",
    "#link of the video to be downloaded \n",
    "link=\"https://www.youtube.com/watch?v=u871WK7kem8\"\n",
    "\n",
    "try: \n",
    "\t#object creation using YouTube which was imported in the beginning \n",
    "\tyt = YouTube(link) \n",
    "except: \n",
    "\tprint(\"Connection Error\") #to handle exception \n"
   ]
  },
  {
   "cell_type": "code",
   "execution_count": 20,
   "metadata": {},
   "outputs": [
    {
     "name": "stdout",
     "output_type": "stream",
     "text": [
      "YouTube\n"
     ]
    }
   ],
   "source": [
    "print(yt.title)"
   ]
  },
  {
   "cell_type": "code",
   "execution_count": 21,
   "metadata": {},
   "outputs": [],
   "source": [
    "stream=yt.streams.first()"
   ]
  },
  {
   "cell_type": "code",
   "execution_count": 22,
   "metadata": {},
   "outputs": [
    {
     "data": {
      "text/plain": [
       "'C:\\\\Users\\\\User\\\\YouTube.mp4'"
      ]
     },
     "execution_count": 22,
     "metadata": {},
     "output_type": "execute_result"
    }
   ],
   "source": [
    "stream.download()"
   ]
  },
  {
   "cell_type": "code",
   "execution_count": null,
   "metadata": {},
   "outputs": [],
   "source": []
  }
 ],
 "metadata": {
  "kernelspec": {
   "display_name": "Python 3",
   "language": "python",
   "name": "python3"
  },
  "language_info": {
   "codemirror_mode": {
    "name": "ipython",
    "version": 3
   },
   "file_extension": ".py",
   "mimetype": "text/x-python",
   "name": "python",
   "nbconvert_exporter": "python",
   "pygments_lexer": "ipython3",
   "version": "3.7.4"
  }
 },
 "nbformat": 4,
 "nbformat_minor": 2
}
